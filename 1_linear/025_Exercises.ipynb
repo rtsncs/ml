{
  "metadata": {
    "kernelspec": {
      "name": "python",
      "display_name": "Python (Pyodide)",
      "language": "python"
    },
    "language_info": {
      "codemirror_mode": {
        "name": "python",
        "version": 3
      },
      "file_extension": ".py",
      "mimetype": "text/x-python",
      "name": "python",
      "nbconvert_exporter": "python",
      "pygments_lexer": "ipython3",
      "version": "3.8"
    },
    "colab": {
      "provenance": []
    }
  },
  "nbformat_minor": 0,
  "nbformat": 4,
  "cells": [
    {
      "cell_type": "markdown",
      "source": [
        "# Exercises\n",
        "\n",
        "There are three exercises in this notebook:\n",
        "\n",
        "1. Use the cross-validation method to test the linear regression with different $\\alpha$ values, at least three.\n",
        "2. Implement a SGD method that will train the Lasso regression for 10 epochs.\n",
        "3. Extend the Fisher's classifier to work with two features. Use the class as the $y$."
      ],
      "metadata": {
        "id": "MPXUhugnwo4H"
      }
    },
    {
      "cell_type": "markdown",
      "source": [
        "## 1. Cross-validation linear regression\n",
        "\n",
        "You need to change the variable ``alpha`` to be a list of alphas. Next do a loop and finally compare the results."
      ],
      "metadata": {
        "id": "bIuS3j7bwo4J"
      }
    },
    {
      "cell_type": "code",
      "source": [
        "import numpy as np\n",
        "x = np.array([188, 181, 197, 168, 167, 187, 178, 194, 140, 176, 168, 192, 173, 142, 176]).reshape(-1, 1).reshape(15,1)\n",
        "y = np.array([141, 106, 149, 59, 79, 136, 65, 136, 52, 87, 115, 140, 82, 69, 121]).reshape(-1, 1).reshape(15,1)\n",
        "\n",
        "x = np.asmatrix(np.c_[np.ones((15,1)),x])\n",
        "\n",
        "I = np.identity(2)\n",
        "alphas = [0.01, 0.1, 1, 10] # change here\n",
        "\n",
        "# add 1-3 line of code here\n",
        "results = {}\n",
        "\n",
        "for alpha in alphas:\n",
        "    w = np.linalg.inv(x.T*x + alpha * I)*x.T*y\n",
        "    w=w.ravel()\n",
        "    results[alpha] = w\n",
        "\n",
        "# add 1-3 lines to compare the results\n",
        "for alpha, weights in results.items():\n",
        "    print(\"alpha: \", alpha,\" weights: \", weights)\n",
        "\n"
      ],
      "metadata": {
        "trusted": true,
        "colab": {
          "base_uri": "https://localhost:8080/"
        },
        "id": "o1Y3e0sBwo4K",
        "outputId": "3ef7bf8c-9160-4323-c432-1e57bb086992"
      },
      "outputs": [
        {
          "output_type": "stream",
          "name": "stdout",
          "text": [
            "alpha:  0.01  weights:  [[-167.85534019    1.54416013]]\n",
            "alpha:  0.1  weights:  [[-101.72397081    1.16978757]]\n",
            "alpha:  1  weights:  [[-20.59044706   0.71048616]]\n",
            "alpha:  10  weights:  [[-2.29106262  0.60688107]]\n"
          ]
        }
      ],
      "execution_count": 4
    },
    {
      "cell_type": "markdown",
      "source": [
        "## 2. Implement based on the Ridge regression example, the Lasso regression.\n",
        "\n",
        "Please implement the SGD method and compare the results with the sklearn Lasso regression results."
      ],
      "metadata": {
        "id": "_KvDaVpfwo4L"
      }
    },
    {
      "cell_type": "code",
      "source": [
        "def sgd(x, y, alpha, lr = 0.001, epochs = 10):\n",
        "  w = np.zeros((x.shape[1],1))\n",
        "\n",
        "  for _ in range(epochs):\n",
        "    indices = np.random.permutation(x.shape[0])\n",
        "    for i in indices:\n",
        "      gradient = -2 * x[i].T @ (y[i] - x[i] @ w) + alpha * w\n",
        "      w -= lr * gradient\n",
        "\n",
        "  return w.ravel()"
      ],
      "metadata": {
        "id": "x2D-9cN-wo4M"
      },
      "outputs": [],
      "execution_count": 109
    },
    {
      "cell_type": "code",
      "source": [
        "x = np.array([188, 181, 197, 168, 167, 187, 178, 194, 140, 176, 168, 192, 173, 142, 176]).reshape(-1, 1).reshape(15,1)\n",
        "y = np.array([141, 106, 149, 59, 79, 136, 65, 136, 52, 87, 115, 140, 82, 69, 121]).reshape(-1, 1).reshape(15,1)\n",
        "\n",
        "X = np.asmatrix(np.c_[np.ones((15,1)),x])\n",
        "\n",
        "alpha = 0.1\n",
        "\n",
        "np.random.seed(42)\n",
        "w_sgd = sgd(X, y, alpha)\n",
        "print(\"SGD weights: \", w_sgd)\n",
        "\n",
        "from sklearn.linear_model import Lasso\n",
        "lasso = Lasso(alpha=alpha)\n",
        "lasso.fit(x, y)\n",
        "w_lasso = lasso.coef_\n",
        "print(\"Lasso weights: \", w_lasso)"
      ],
      "metadata": {
        "colab": {
          "base_uri": "https://localhost:8080/"
        },
        "id": "1MFKFu1iwo4N",
        "outputId": "9afa387a-c42a-44de-ec32-5ecdf13dfc73"
      },
      "outputs": [
        {
          "output_type": "stream",
          "name": "stdout",
          "text": [
            "SGD weights:  [-7.99993694e+263 -1.42428416e+266]\n",
            "Lasso weights:  [1.61776499]\n"
          ]
        }
      ],
      "execution_count": 112
    },
    {
      "cell_type": "markdown",
      "source": [
        "## 3. Extend the Fisher's classifier\n",
        "\n",
        "Please extend the targets of the ``iris_data`` variable and use it as the $y$."
      ],
      "metadata": {
        "id": "fAKRzKBtwo4N"
      }
    },
    {
      "cell_type": "code",
      "source": [
        "import pandas as pd\n",
        "import matplotlib.pyplot as plt\n",
        "from sklearn.datasets import load_iris\n",
        "\n",
        "iris_data = load_iris()\n",
        "iris_df = pd.DataFrame(iris_data.data,columns=iris_data.feature_names)\n",
        "iris_df['target'] = iris_data.target\n",
        "iris_df.head()\n",
        "\n",
        "x = iris_df[['sepal width (cm)', 'sepal length (cm)']].values # change here\n",
        "y = iris_df['target'].values.reshape(-1, 1) # change here\n",
        "\n",
        "dataset_size = np.size(x)\n",
        "\n",
        "mean_x, mean_y = np.mean(x), np.mean(y)\n",
        "\n",
        "SS_xy = np.sum(y * x) - dataset_size * mean_y * mean_x\n",
        "SS_xx = np.sum(x * x) - dataset_size * mean_x * mean_x\n",
        "\n",
        "a = SS_xy / SS_xx\n",
        "b = mean_y - a * mean_x\n",
        "\n",
        "\n",
        "y_pred = a * x + b\n",
        "\n",
        "df = pd.DataFrame(y_pred)\n",
        "print(df)"
      ],
      "metadata": {
        "trusted": true,
        "colab": {
          "base_uri": "https://localhost:8080/"
        },
        "id": "WqfPpNAuwo4N",
        "outputId": "f8209495-5f50-4bf6-92c6-d0de0a713825"
      },
      "outputs": [
        {
          "output_type": "stream",
          "name": "stdout",
          "text": [
            "            0         1\n",
            "0    0.924785  1.051418\n",
            "1    0.885212  1.035589\n",
            "2    0.901042  1.019760\n",
            "3    0.893127  1.011845\n",
            "4    0.932700  1.043504\n",
            "..        ...       ...\n",
            "145  0.885212  1.178051\n",
            "146  0.845640  1.146393\n",
            "147  0.885212  1.162222\n",
            "148  0.916871  1.138479\n",
            "149  0.885212  1.114735\n",
            "\n",
            "[150 rows x 2 columns]\n"
          ]
        }
      ],
      "execution_count": 111
    }
  ]
}